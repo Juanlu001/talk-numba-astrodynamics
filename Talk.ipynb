{
 "cells": [
  {
   "cell_type": "markdown",
   "metadata": {
    "slideshow": {
     "slide_type": "slide"
    }
   },
   "source": [
    "# Can we make Python fast without sacrificing readability?\n",
    "\n",
    "## numba for astrodynamics\n",
    "\n",
    "![numba](img/orbit-low-thrust.png)\n",
    "\n",
    "### Juan Luis Cano Rodríguez <hello@juanlu.space>\n",
    "### 2019-09-05 EuroSciPy @ Bizkaia Aretoa"
   ]
  },
  {
   "cell_type": "markdown",
   "metadata": {
    "slideshow": {
     "slide_type": "slide"
    }
   },
   "source": [
    "# Outline\n",
    "\n",
    "1. Introduction\n",
    "2. Why numba?\n",
    "4. Tips, tricks, limitations and workarounds\n",
    "5. Conclusions"
   ]
  },
  {
   "cell_type": "markdown",
   "metadata": {
    "slideshow": {
     "slide_type": "slide"
    }
   },
   "source": [
    "# Who is this guy?\n",
    "\n",
    "* **Aerospace Engineer** with a passion for orbits 🛰\n",
    "* Chair of the **Python España** non profit and co-organizer of **PyCon Spain** 🐍\n",
    "* **Software Developer** at **Satellogic** 🌍\n",
    "* Free Software advocate and Python enthusiast 🕮\n",
    "* Hard Rock lover 🎸\n",
    "\n",
    "Follow me! https://github.com/Juanlu001/\n",
    "\n",
    "![Me!](img/juanlu_esa.jpg)"
   ]
  },
  {
   "cell_type": "markdown",
   "metadata": {
    "slideshow": {
     "slide_type": "slide"
    }
   },
   "source": [
    "# 1. What is poliastro?\n",
    "\n",
    "<img src=\"img/logo_text.svg\" alt=\"poliastro\" width=\"500\" style=\"float:right\"></img>\n",
    "\n",
    "> poliastro is Python library for Astrodynamics and Orbital Mechanics, focused on interactive and friendly use and with an eye on performance.\n",
    "\n",
    "* **Pure Python**, accelerated with **numba**\n",
    "* **MIT license** (permissive)\n",
    "* Physical units, astronomical scales and more, thanks to Astropy\n",
    "* Conversion between several orbit representations\n",
    "* Analytical and numerical propagation\n",
    "* Cool documentation 🚀\n",
    "* Latest version 0.13.0 https://docs.poliastro.space/en/v0.13.0/changelog.html#poliastro-0-13-0-2019-08-05\n",
    "\n",
    "<div style=\"clear:both\"></div>"
   ]
  },
  {
   "cell_type": "markdown",
   "metadata": {
    "slideshow": {
     "slide_type": "subslide"
    }
   },
   "source": [
    "## Brief history\n",
    "\n",
    "* **2013**: **First version: Octave + FORTRAN + Python**\n",
    "* *2014*: Refactor of the API, much friendlier\n",
    "* *2015*: Replace FORTRAN algorithms by Python + numba 🚀\n",
    "* *2016*: Izzo algorithm (Lambert's problem), 6th ICATT @ ESA\n",
    "* *2017*: Summer of Code in Space (SOCIS), OpenAstronomy & Astropy membership, 1st OSCW @ ESOC\n",
    "* *2018*: Google Summer of Code (GSOC), #PyAstro18 @ Simons Fndn, expansion into the industry"
   ]
  },
  {
   "cell_type": "markdown",
   "metadata": {
    "slideshow": {
     "slide_type": "slide"
    }
   },
   "source": [
    "# 2. Why numba? A shallow\\* overview of Python accelerators\n",
    "\n",
    "## Cython\n",
    "\n",
    "![Cython](img/Cython-logo.png)\n",
    "\n",
    "* Mature, widely used, effective, gradual - a great project!\n",
    "* Some personal problems with it:\n",
    "  - I don't know any C, so it's more difficult for me\n",
    "  - I wanted poliastro to be super easy to install by avoiding the \"two language\" problem (this includes Windows)\n",
    "  - The native debugger has been broken two years https://github.com/cython/cython/issues/1717\n",
    "\n",
    "I don't have lots of experience with it, so I don't have solid arguments against it.\n",
    "\n",
    "\\* There are many more we left out"
   ]
  },
  {
   "cell_type": "markdown",
   "metadata": {
    "slideshow": {
     "slide_type": "subslide"
    }
   },
   "source": [
    "## PyPy\n",
    "\n",
    "![PyPy](img/pypy-logo.png)\n",
    "\n",
    "* PyPy is a super interesting alternative Python implementation https://pypy.org/\n",
    "* I really really want to use it more, but there are some obstacles:\n",
    "  - The documentation is a bit poor, even the changelogs\n",
    "  - Lacks interest from the mainstream community (including snarky comments by Guido about \"nobody using it in production\")\n",
    "  - Support in conda is not mature https://github.com/conda-forge/pypy2.7-feedstock/issues/1\n",
    "  - PyPy has several incompatibilities with manylinux1 wheels https://bitbucket.org/pypy/pypy/issues/2617/\n",
    "  - manylinux2010 are almost there, but need the final push https://github.com/pypa/manylinux/issues/179\n",
    "  - Last time I tried, the test suite was actually slower 😢 https://github.com/poliastro/poliastro/issues/98#issuecomment-469597401"
   ]
  },
  {
   "cell_type": "markdown",
   "metadata": {
    "slideshow": {
     "slide_type": "subslide"
    }
   },
   "source": [
    "## All of a sudden, in 2012...\n",
    "\n",
    "![numba 0.1 is released](img/tweet-travis.png)\n",
    "\n",
    "https://twitter.com/teoliphant/status/235789560678858752"
   ]
  },
  {
   "cell_type": "markdown",
   "metadata": {
    "slideshow": {
     "slide_type": "subslide"
    }
   },
   "source": [
    "# numba\n",
    "\n",
    "![numba](img/numba.png)\n",
    "\n",
    "> Numba is an open source JIT compiler that translates a subset of Python and NumPy code into fast machine code.\n",
    "\n",
    "* Latest version (at the time of writing) 0.45.1\n",
    "* Documentation https://numba.pydata.org/numba-doc/0.45.1/index.html\n",
    "* BSD-2 License\n",
    "* Easy to install:\n",
    "\n",
    "```\n",
    "$ pip install numba\n",
    "$ conda install numba [--channel conda-forge]\n",
    "```\n",
    "\n",
    "For more details, see [Valentin's talk](https://pretalx.com/euroscipy-2019/talk/EDNVGJ/) 😉"
   ]
  },
  {
   "cell_type": "markdown",
   "metadata": {
    "slideshow": {
     "slide_type": "subslide"
    }
   },
   "source": [
    "## And it worked!\n",
    "\n",
    "\"poliastro: An Astrodynamics library written in Python with Fortran performance\" at the 6th International Conference on Astrodynamics Tools and Techniques\n",
    "\n",
    "![poliastro benchmark](img/poliastro-benchmark.png)\n",
    "\n",
    "https://indico.esa.int/event/111/contributions/393/"
   ]
  },
  {
   "cell_type": "markdown",
   "metadata": {
    "slideshow": {
     "slide_type": "slide"
    }
   },
   "source": [
    "# 3. Tips, tricks, caveats and limitations\n",
    "\n",
    "## The \"nopython mode\" is the only way\n",
    "\n",
    "* Two modes: \"object mode\" and \"nopython mode\"\n",
    "* Only the latter is truly optimized!\n",
    "* Functions JITted in nopython mode can only call \"nopython\" functions\n",
    "* _Avoid \"object mode\"!_ In the process of being deprecated\n",
    "\n",
    "![It's nopython all the way down](img/nopython.jpg)"
   ]
  },
  {
   "cell_type": "code",
   "execution_count": 1,
   "metadata": {
    "slideshow": {
     "slide_type": "subslide"
    }
   },
   "outputs": [],
   "source": [
    "from numba import jit"
   ]
  },
  {
   "cell_type": "code",
   "execution_count": 2,
   "metadata": {
    "slideshow": {
     "slide_type": "fragment"
    }
   },
   "outputs": [
    {
     "data": {
      "text/plain": [
       "[0, 1, 2, 3, 4, 5, 6, 7, 8, 9]"
      ]
     },
     "execution_count": 2,
     "metadata": {},
     "output_type": "execute_result"
    }
   ],
   "source": [
    "@jit\n",
    "def range10():\n",
    "    l = []\n",
    "    for x in range(10):\n",
    "        l.append(x)\n",
    "    return l\n",
    "\n",
    "range10()"
   ]
  },
  {
   "cell_type": "code",
   "execution_count": 3,
   "metadata": {
    "slideshow": {
     "slide_type": "subslide"
    }
   },
   "outputs": [
    {
     "name": "stderr",
     "output_type": "stream",
     "text": [
      "<ipython-input-3-36e21b3924b1>:1: NumbaWarning: \n",
      "Compilation is falling back to object mode WITH looplifting enabled because Function \"reversed_range10\" failed type inference due to: Untyped global name 'reversed': cannot determine Numba type of <class 'type'>\n",
      "\n",
      "File \"<ipython-input-3-36e21b3924b1>\", line 7:\n",
      "def reversed_range10():\n",
      "    <source elided>\n",
      "\n",
      "    return reversed(l)  # innocuous change, but no `reversed` support in nopython mode\n",
      "    ^\n",
      "\n",
      "  @jit\n",
      "<ipython-input-3-36e21b3924b1>:1: NumbaWarning: \n",
      "Compilation is falling back to object mode WITHOUT looplifting enabled because Function \"reversed_range10\" failed type inference due to: cannot determine Numba type of <class 'numba.dispatcher.LiftedLoop'>\n",
      "\n",
      "File \"<ipython-input-3-36e21b3924b1>\", line 4:\n",
      "def reversed_range10():\n",
      "    <source elided>\n",
      "    l = []\n",
      "    for x in range(10):\n",
      "    ^\n",
      "\n",
      "  @jit\n",
      "/home/juanlu/.local/share/virtualenvs/talk-numba-astrodynamics-VOhN9a7V/lib/python3.7/site-packages/numba/compiler.py:742: NumbaWarning: Function \"reversed_range10\" was compiled in object mode without forceobj=True, but has lifted loops.\n",
      "\n",
      "File \"<ipython-input-3-36e21b3924b1>\", line 2:\n",
      "@jit\n",
      "def reversed_range10():\n",
      "^\n",
      "\n",
      "  self.func_ir.loc))\n",
      "/home/juanlu/.local/share/virtualenvs/talk-numba-astrodynamics-VOhN9a7V/lib/python3.7/site-packages/numba/compiler.py:751: NumbaDeprecationWarning: \n",
      "Fall-back from the nopython compilation path to the object mode compilation path has been detected, this is deprecated behaviour.\n",
      "\n",
      "For more information visit http://numba.pydata.org/numba-doc/latest/reference/deprecation.html#deprecation-of-object-mode-fall-back-behaviour-when-using-jit\n",
      "\n",
      "File \"<ipython-input-3-36e21b3924b1>\", line 2:\n",
      "@jit\n",
      "def reversed_range10():\n",
      "^\n",
      "\n",
      "  warnings.warn(errors.NumbaDeprecationWarning(msg, self.func_ir.loc))\n",
      "<ipython-input-3-36e21b3924b1>:1: NumbaWarning: \n",
      "Compilation is falling back to object mode WITHOUT looplifting enabled because Function \"reversed_range10\" failed type inference due to: non-precise type pyobject\n",
      "[1] During: typing of argument at <ipython-input-3-36e21b3924b1> (4)\n",
      "\n",
      "File \"<ipython-input-3-36e21b3924b1>\", line 4:\n",
      "def reversed_range10():\n",
      "    <source elided>\n",
      "    l = []\n",
      "    for x in range(10):\n",
      "    ^\n",
      "\n",
      "  @jit\n",
      "/home/juanlu/.local/share/virtualenvs/talk-numba-astrodynamics-VOhN9a7V/lib/python3.7/site-packages/numba/compiler.py:742: NumbaWarning: Function \"reversed_range10\" was compiled in object mode without forceobj=True.\n",
      "\n",
      "File \"<ipython-input-3-36e21b3924b1>\", line 4:\n",
      "def reversed_range10():\n",
      "    <source elided>\n",
      "    l = []\n",
      "    for x in range(10):\n",
      "    ^\n",
      "\n",
      "  self.func_ir.loc))\n",
      "/home/juanlu/.local/share/virtualenvs/talk-numba-astrodynamics-VOhN9a7V/lib/python3.7/site-packages/numba/compiler.py:751: NumbaDeprecationWarning: \n",
      "Fall-back from the nopython compilation path to the object mode compilation path has been detected, this is deprecated behaviour.\n",
      "\n",
      "For more information visit http://numba.pydata.org/numba-doc/latest/reference/deprecation.html#deprecation-of-object-mode-fall-back-behaviour-when-using-jit\n",
      "\n",
      "File \"<ipython-input-3-36e21b3924b1>\", line 4:\n",
      "def reversed_range10():\n",
      "    <source elided>\n",
      "    l = []\n",
      "    for x in range(10):\n",
      "    ^\n",
      "\n",
      "  warnings.warn(errors.NumbaDeprecationWarning(msg, self.func_ir.loc))\n"
     ]
    },
    {
     "data": {
      "text/plain": [
       "[9, 8, 7, 6, 5, 4, 3, 2, 1, 0]"
      ]
     },
     "execution_count": 3,
     "metadata": {},
     "output_type": "execute_result"
    }
   ],
   "source": [
    "@jit\n",
    "def reversed_range10():\n",
    "    l = []\n",
    "    for x in range(10):\n",
    "        l.append(x)\n",
    "\n",
    "    return reversed(l)  # innocuous change, but no `reversed` support in nopython mode\n",
    "\n",
    "\n",
    "list(reversed_range10())"
   ]
  },
  {
   "cell_type": "code",
   "execution_count": 4,
   "metadata": {
    "slideshow": {
     "slide_type": "subslide"
    }
   },
   "outputs": [
    {
     "data": {
      "text/plain": [
       "[9, 8, 7, 6, 5, 4, 3, 2, 1, 0]"
      ]
     },
     "execution_count": 4,
     "metadata": {},
     "output_type": "execute_result"
    }
   ],
   "source": [
    "list(reversed_range10())"
   ]
  },
  {
   "cell_type": "code",
   "execution_count": 5,
   "metadata": {
    "slideshow": {
     "slide_type": "subslide"
    }
   },
   "outputs": [
    {
     "ename": "TypingError",
     "evalue": "Failed in nopython mode pipeline (step: nopython frontend)\nUntyped global name 'reversed': cannot determine Numba type of <class 'type'>\n\nFile \"<ipython-input-5-e3aec2acc4da>\", line 7:\ndef reversed_range10():\n    <source elided>\n\n    return reversed(l)  # innocuous change, but no `reversed` support in nopython mode\n    ^\n\nThis is not usually a problem with Numba itself but instead often caused by\nthe use of unsupported features or an issue in resolving types.\n\nTo see Python/NumPy features supported by the latest release of Numba visit:\nhttp://numba.pydata.org/numba-doc/latest/reference/pysupported.html\nand\nhttp://numba.pydata.org/numba-doc/latest/reference/numpysupported.html\n\nFor more information about typing errors and how to debug them visit:\nhttp://numba.pydata.org/numba-doc/latest/user/troubleshoot.html#my-code-doesn-t-compile\n\nIf you think your code should work with Numba, please report the error message\nand traceback, along with a minimal reproducer at:\nhttps://github.com/numba/numba/issues/new\n",
     "output_type": "error",
     "traceback": [
      "\u001b[0;31m---------------------------------------------------------------------------\u001b[0m",
      "\u001b[0;31mTypingError\u001b[0m                               Traceback (most recent call last)",
      "\u001b[0;32m<ipython-input-5-e3aec2acc4da>\u001b[0m in \u001b[0;36m<module>\u001b[0;34m\u001b[0m\n\u001b[1;32m      8\u001b[0m \u001b[0;34m\u001b[0m\u001b[0m\n\u001b[1;32m      9\u001b[0m \u001b[0;34m\u001b[0m\u001b[0m\n\u001b[0;32m---> 10\u001b[0;31m \u001b[0mlist\u001b[0m\u001b[0;34m(\u001b[0m\u001b[0mreversed_range10\u001b[0m\u001b[0;34m(\u001b[0m\u001b[0;34m)\u001b[0m\u001b[0;34m)\u001b[0m\u001b[0;34m\u001b[0m\u001b[0;34m\u001b[0m\u001b[0m\n\u001b[0m",
      "\u001b[0;32m~/.local/share/virtualenvs/talk-numba-astrodynamics-VOhN9a7V/lib/python3.7/site-packages/numba/dispatcher.py\u001b[0m in \u001b[0;36m_compile_for_args\u001b[0;34m(self, *args, **kws)\u001b[0m\n\u001b[1;32m    374\u001b[0m                 \u001b[0me\u001b[0m\u001b[0;34m.\u001b[0m\u001b[0mpatch_message\u001b[0m\u001b[0;34m(\u001b[0m\u001b[0mmsg\u001b[0m\u001b[0;34m)\u001b[0m\u001b[0;34m\u001b[0m\u001b[0;34m\u001b[0m\u001b[0m\n\u001b[1;32m    375\u001b[0m \u001b[0;34m\u001b[0m\u001b[0m\n\u001b[0;32m--> 376\u001b[0;31m             \u001b[0merror_rewrite\u001b[0m\u001b[0;34m(\u001b[0m\u001b[0me\u001b[0m\u001b[0;34m,\u001b[0m \u001b[0;34m'typing'\u001b[0m\u001b[0;34m)\u001b[0m\u001b[0;34m\u001b[0m\u001b[0;34m\u001b[0m\u001b[0m\n\u001b[0m\u001b[1;32m    377\u001b[0m         \u001b[0;32mexcept\u001b[0m \u001b[0merrors\u001b[0m\u001b[0;34m.\u001b[0m\u001b[0mUnsupportedError\u001b[0m \u001b[0;32mas\u001b[0m \u001b[0me\u001b[0m\u001b[0;34m:\u001b[0m\u001b[0;34m\u001b[0m\u001b[0;34m\u001b[0m\u001b[0m\n\u001b[1;32m    378\u001b[0m             \u001b[0;31m# Something unsupported is present in the user code, add help info\u001b[0m\u001b[0;34m\u001b[0m\u001b[0;34m\u001b[0m\u001b[0;34m\u001b[0m\u001b[0m\n",
      "\u001b[0;32m~/.local/share/virtualenvs/talk-numba-astrodynamics-VOhN9a7V/lib/python3.7/site-packages/numba/dispatcher.py\u001b[0m in \u001b[0;36merror_rewrite\u001b[0;34m(e, issue_type)\u001b[0m\n\u001b[1;32m    341\u001b[0m                 \u001b[0;32mraise\u001b[0m \u001b[0me\u001b[0m\u001b[0;34m\u001b[0m\u001b[0;34m\u001b[0m\u001b[0m\n\u001b[1;32m    342\u001b[0m             \u001b[0;32melse\u001b[0m\u001b[0;34m:\u001b[0m\u001b[0;34m\u001b[0m\u001b[0;34m\u001b[0m\u001b[0m\n\u001b[0;32m--> 343\u001b[0;31m                 \u001b[0mreraise\u001b[0m\u001b[0;34m(\u001b[0m\u001b[0mtype\u001b[0m\u001b[0;34m(\u001b[0m\u001b[0me\u001b[0m\u001b[0;34m)\u001b[0m\u001b[0;34m,\u001b[0m \u001b[0me\u001b[0m\u001b[0;34m,\u001b[0m \u001b[0;32mNone\u001b[0m\u001b[0;34m)\u001b[0m\u001b[0;34m\u001b[0m\u001b[0;34m\u001b[0m\u001b[0m\n\u001b[0m\u001b[1;32m    344\u001b[0m \u001b[0;34m\u001b[0m\u001b[0m\n\u001b[1;32m    345\u001b[0m         \u001b[0margtypes\u001b[0m \u001b[0;34m=\u001b[0m \u001b[0;34m[\u001b[0m\u001b[0;34m]\u001b[0m\u001b[0;34m\u001b[0m\u001b[0;34m\u001b[0m\u001b[0m\n",
      "\u001b[0;32m~/.local/share/virtualenvs/talk-numba-astrodynamics-VOhN9a7V/lib/python3.7/site-packages/numba/six.py\u001b[0m in \u001b[0;36mreraise\u001b[0;34m(tp, value, tb)\u001b[0m\n\u001b[1;32m    656\u001b[0m             \u001b[0mvalue\u001b[0m \u001b[0;34m=\u001b[0m \u001b[0mtp\u001b[0m\u001b[0;34m(\u001b[0m\u001b[0;34m)\u001b[0m\u001b[0;34m\u001b[0m\u001b[0;34m\u001b[0m\u001b[0m\n\u001b[1;32m    657\u001b[0m         \u001b[0;32mif\u001b[0m \u001b[0mvalue\u001b[0m\u001b[0;34m.\u001b[0m\u001b[0m__traceback__\u001b[0m \u001b[0;32mis\u001b[0m \u001b[0;32mnot\u001b[0m \u001b[0mtb\u001b[0m\u001b[0;34m:\u001b[0m\u001b[0;34m\u001b[0m\u001b[0;34m\u001b[0m\u001b[0m\n\u001b[0;32m--> 658\u001b[0;31m             \u001b[0;32mraise\u001b[0m \u001b[0mvalue\u001b[0m\u001b[0;34m.\u001b[0m\u001b[0mwith_traceback\u001b[0m\u001b[0;34m(\u001b[0m\u001b[0mtb\u001b[0m\u001b[0;34m)\u001b[0m\u001b[0;34m\u001b[0m\u001b[0;34m\u001b[0m\u001b[0m\n\u001b[0m\u001b[1;32m    659\u001b[0m         \u001b[0;32mraise\u001b[0m \u001b[0mvalue\u001b[0m\u001b[0;34m\u001b[0m\u001b[0;34m\u001b[0m\u001b[0m\n\u001b[1;32m    660\u001b[0m \u001b[0;34m\u001b[0m\u001b[0m\n",
      "\u001b[0;31mTypingError\u001b[0m: Failed in nopython mode pipeline (step: nopython frontend)\nUntyped global name 'reversed': cannot determine Numba type of <class 'type'>\n\nFile \"<ipython-input-5-e3aec2acc4da>\", line 7:\ndef reversed_range10():\n    <source elided>\n\n    return reversed(l)  # innocuous change, but no `reversed` support in nopython mode\n    ^\n\nThis is not usually a problem with Numba itself but instead often caused by\nthe use of unsupported features or an issue in resolving types.\n\nTo see Python/NumPy features supported by the latest release of Numba visit:\nhttp://numba.pydata.org/numba-doc/latest/reference/pysupported.html\nand\nhttp://numba.pydata.org/numba-doc/latest/reference/numpysupported.html\n\nFor more information about typing errors and how to debug them visit:\nhttp://numba.pydata.org/numba-doc/latest/user/troubleshoot.html#my-code-doesn-t-compile\n\nIf you think your code should work with Numba, please report the error message\nand traceback, along with a minimal reproducer at:\nhttps://github.com/numba/numba/issues/new\n"
     ]
    }
   ],
   "source": [
    "@jit(nopython=True)\n",
    "def reversed_range10():\n",
    "    l = []\n",
    "    for x in range(10):\n",
    "        l.append(x)\n",
    "\n",
    "    return reversed(l)  # innocuous change, but no `reversed` support in nopython mode\n",
    "\n",
    "\n",
    "list(reversed_range10())"
   ]
  },
  {
   "cell_type": "markdown",
   "metadata": {
    "slideshow": {
     "slide_type": "subslide"
    }
   },
   "source": [
    "```\n",
    "TypingError: Failed in nopython mode pipeline (step: nopython frontend)\n",
    "Untyped global name 'reversed': cannot determine Numba type of <class 'type'>\n",
    "\n",
    "File \"<ipython-input-10-e3aec2acc4da>\", line 7:\n",
    "def reversed_range10():\n",
    "    <source elided>\n",
    "\n",
    "    return reversed(l)  # innocuous change, but no `reversed` support in nopython mode\n",
    "    ^\n",
    "```"
   ]
  },
  {
   "cell_type": "code",
   "execution_count": 6,
   "metadata": {
    "slideshow": {
     "slide_type": "subslide"
    }
   },
   "outputs": [
    {
     "data": {
      "text/plain": [
       "[9, 8, 7, 6, 5, 4, 3, 2, 1, 0]"
      ]
     },
     "execution_count": 6,
     "metadata": {},
     "output_type": "execute_result"
    }
   ],
   "source": [
    "from numba import njit\n",
    "\n",
    "@njit\n",
    "def reversed_range10():\n",
    "    l = []\n",
    "    for x in range(10):\n",
    "        l.append(x)\n",
    "\n",
    "    return l[::-1]  # alternative to `reversed`\n",
    "\n",
    "reversed_range10()"
   ]
  },
  {
   "cell_type": "markdown",
   "metadata": {
    "slideshow": {
     "slide_type": "subslide"
    }
   },
   "source": [
    "## Passing functions as arguments is _slow_\n",
    "\n",
    "* Since numba 0.38 the user can pass JITted functions as arguments, yay!\n",
    "* However, the dispatch overhead for this case appears to be in the ~tens of microseconds range https://github.com/numba/numba/issues/2952\n",
    "* Arguably the most important blocker to write reusable numba code"
   ]
  },
  {
   "cell_type": "markdown",
   "metadata": {
    "slideshow": {
     "slide_type": "subslide"
    }
   },
   "source": [
    "### Example: Root finding _à la_ SciPy"
   ]
  },
  {
   "cell_type": "code",
   "execution_count": 7,
   "metadata": {
    "slideshow": {
     "slide_type": "fragment"
    }
   },
   "outputs": [],
   "source": [
    "@njit\n",
    "def func(x):\n",
    "    return x**3 - 1\n",
    "\n",
    "@njit\n",
    "def fprime(x):\n",
    "    return 3 * x**2"
   ]
  },
  {
   "cell_type": "code",
   "execution_count": 8,
   "metadata": {
    "slideshow": {
     "slide_type": "subslide"
    }
   },
   "outputs": [],
   "source": [
    "@njit\n",
    "def njit_newton(func, x0, fprime):\n",
    "    for _ in range(50):\n",
    "        fder = fprime(x0)\n",
    "        fval = func(x0)\n",
    "        newton_step = fval / fder\n",
    "        x = x0 - newton_step\n",
    "        if abs(x - x0) < 1.48e-8:  # Harcoded value in scipy.optimize.newton\n",
    "            return x\n",
    "        x0 = x"
   ]
  },
  {
   "cell_type": "code",
   "execution_count": 9,
   "metadata": {
    "slideshow": {
     "slide_type": "fragment"
    }
   },
   "outputs": [
    {
     "name": "stdout",
     "output_type": "stream",
     "text": [
      "33.2 µs ± 18.5 µs per loop (mean ± std. dev. of 7 runs, 1 loop each)\n",
      "4.51 µs ± 263 ns per loop (mean ± std. dev. of 7 runs, 100000 loops each)\n"
     ]
    }
   ],
   "source": [
    "%timeit njit_newton(func, 1.5, fprime)\n",
    "%timeit njit_newton.py_func(func, 1.5, fprime=fprime)"
   ]
  },
  {
   "cell_type": "markdown",
   "metadata": {
    "slideshow": {
     "slide_type": "subslide"
    }
   },
   "source": [
    "With a smart combination of closures and caching we can implement a workaround:"
   ]
  },
  {
   "cell_type": "code",
   "execution_count": 10,
   "metadata": {
    "slideshow": {
     "slide_type": "fragment"
    }
   },
   "outputs": [],
   "source": [
    "from functools import lru_cache\n",
    "\n",
    "@lru_cache()\n",
    "def newton_generator(func, fprime):\n",
    "    @njit\n",
    "    def njit_newton_final(x0):\n",
    "        for _ in range(50):\n",
    "            fder = fprime(x0)\n",
    "            fval = func(x0)\n",
    "            newton_step = fval / fder\n",
    "            x = x0 - newton_step\n",
    "            if abs(x - x0) < 1.48e-8:\n",
    "                return x\n",
    "            x0 = x\n",
    "\n",
    "    return njit_newton_final"
   ]
  },
  {
   "cell_type": "code",
   "execution_count": 11,
   "metadata": {
    "slideshow": {
     "slide_type": "fragment"
    }
   },
   "outputs": [
    {
     "name": "stdout",
     "output_type": "stream",
     "text": [
      "494 ns ± 12.6 ns per loop (mean ± std. dev. of 7 runs, 1000000 loops each)\n"
     ]
    }
   ],
   "source": [
    "def newton(func, x0, fprime):\n",
    "    return newton_generator(func, fprime)(x0)\n",
    "\n",
    "%timeit newton(func, 1.5, fprime)"
   ]
  },
  {
   "cell_type": "markdown",
   "metadata": {
    "slideshow": {
     "slide_type": "slide"
    }
   },
   "source": [
    "## Watch out with dtypes!\n",
    "\n",
    "https://github.com/numba/numba/issues/3993#issuecomment-485029668"
   ]
  },
  {
   "cell_type": "code",
   "execution_count": 12,
   "metadata": {
    "slideshow": {
     "slide_type": "subslide"
    }
   },
   "outputs": [
    {
     "ename": "TypingError",
     "evalue": "Failed in nopython mode pipeline (step: nopython frontend)\nInvalid use of Function(<built-in function zeros>) with argument(s) of type(s): (tuple(int64 x 2), dtype=Function(<class 'int'>))\n * parameterized\nIn definition 0:\n    All templates rejected with literals.\nIn definition 1:\n    All templates rejected without literals.\nThis error is usually caused by passing an argument of a type that is unsupported by the named function.\n[1] During: resolving callee type: Function(<built-in function zeros>)\n[2] During: typing of call at <ipython-input-12-8421ff8d7be9> (5)\n\n\nFile \"<ipython-input-12-8421ff8d7be9>\", line 5:\ndef foo():\n    return np.zeros((2, 2), dtype=int)\n    ^\n\nThis is not usually a problem with Numba itself but instead often caused by\nthe use of unsupported features or an issue in resolving types.\n\nTo see Python/NumPy features supported by the latest release of Numba visit:\nhttp://numba.pydata.org/numba-doc/latest/reference/pysupported.html\nand\nhttp://numba.pydata.org/numba-doc/latest/reference/numpysupported.html\n\nFor more information about typing errors and how to debug them visit:\nhttp://numba.pydata.org/numba-doc/latest/user/troubleshoot.html#my-code-doesn-t-compile\n\nIf you think your code should work with Numba, please report the error message\nand traceback, along with a minimal reproducer at:\nhttps://github.com/numba/numba/issues/new\n",
     "output_type": "error",
     "traceback": [
      "\u001b[0;31m---------------------------------------------------------------------------\u001b[0m",
      "\u001b[0;31mTypingError\u001b[0m                               Traceback (most recent call last)",
      "\u001b[0;32m<ipython-input-12-8421ff8d7be9>\u001b[0m in \u001b[0;36m<module>\u001b[0;34m\u001b[0m\n\u001b[1;32m      5\u001b[0m     \u001b[0;32mreturn\u001b[0m \u001b[0mnp\u001b[0m\u001b[0;34m.\u001b[0m\u001b[0mzeros\u001b[0m\u001b[0;34m(\u001b[0m\u001b[0;34m(\u001b[0m\u001b[0;36m2\u001b[0m\u001b[0;34m,\u001b[0m \u001b[0;36m2\u001b[0m\u001b[0;34m)\u001b[0m\u001b[0;34m,\u001b[0m \u001b[0mdtype\u001b[0m\u001b[0;34m=\u001b[0m\u001b[0mint\u001b[0m\u001b[0;34m)\u001b[0m\u001b[0;34m\u001b[0m\u001b[0;34m\u001b[0m\u001b[0m\n\u001b[1;32m      6\u001b[0m \u001b[0;34m\u001b[0m\u001b[0m\n\u001b[0;32m----> 7\u001b[0;31m \u001b[0mfoo\u001b[0m\u001b[0;34m(\u001b[0m\u001b[0;34m)\u001b[0m\u001b[0;34m\u001b[0m\u001b[0;34m\u001b[0m\u001b[0m\n\u001b[0m",
      "\u001b[0;32m~/.local/share/virtualenvs/talk-numba-astrodynamics-VOhN9a7V/lib/python3.7/site-packages/numba/dispatcher.py\u001b[0m in \u001b[0;36m_compile_for_args\u001b[0;34m(self, *args, **kws)\u001b[0m\n\u001b[1;32m    374\u001b[0m                 \u001b[0me\u001b[0m\u001b[0;34m.\u001b[0m\u001b[0mpatch_message\u001b[0m\u001b[0;34m(\u001b[0m\u001b[0mmsg\u001b[0m\u001b[0;34m)\u001b[0m\u001b[0;34m\u001b[0m\u001b[0;34m\u001b[0m\u001b[0m\n\u001b[1;32m    375\u001b[0m \u001b[0;34m\u001b[0m\u001b[0m\n\u001b[0;32m--> 376\u001b[0;31m             \u001b[0merror_rewrite\u001b[0m\u001b[0;34m(\u001b[0m\u001b[0me\u001b[0m\u001b[0;34m,\u001b[0m \u001b[0;34m'typing'\u001b[0m\u001b[0;34m)\u001b[0m\u001b[0;34m\u001b[0m\u001b[0;34m\u001b[0m\u001b[0m\n\u001b[0m\u001b[1;32m    377\u001b[0m         \u001b[0;32mexcept\u001b[0m \u001b[0merrors\u001b[0m\u001b[0;34m.\u001b[0m\u001b[0mUnsupportedError\u001b[0m \u001b[0;32mas\u001b[0m \u001b[0me\u001b[0m\u001b[0;34m:\u001b[0m\u001b[0;34m\u001b[0m\u001b[0;34m\u001b[0m\u001b[0m\n\u001b[1;32m    378\u001b[0m             \u001b[0;31m# Something unsupported is present in the user code, add help info\u001b[0m\u001b[0;34m\u001b[0m\u001b[0;34m\u001b[0m\u001b[0;34m\u001b[0m\u001b[0m\n",
      "\u001b[0;32m~/.local/share/virtualenvs/talk-numba-astrodynamics-VOhN9a7V/lib/python3.7/site-packages/numba/dispatcher.py\u001b[0m in \u001b[0;36merror_rewrite\u001b[0;34m(e, issue_type)\u001b[0m\n\u001b[1;32m    341\u001b[0m                 \u001b[0;32mraise\u001b[0m \u001b[0me\u001b[0m\u001b[0;34m\u001b[0m\u001b[0;34m\u001b[0m\u001b[0m\n\u001b[1;32m    342\u001b[0m             \u001b[0;32melse\u001b[0m\u001b[0;34m:\u001b[0m\u001b[0;34m\u001b[0m\u001b[0;34m\u001b[0m\u001b[0m\n\u001b[0;32m--> 343\u001b[0;31m                 \u001b[0mreraise\u001b[0m\u001b[0;34m(\u001b[0m\u001b[0mtype\u001b[0m\u001b[0;34m(\u001b[0m\u001b[0me\u001b[0m\u001b[0;34m)\u001b[0m\u001b[0;34m,\u001b[0m \u001b[0me\u001b[0m\u001b[0;34m,\u001b[0m \u001b[0;32mNone\u001b[0m\u001b[0;34m)\u001b[0m\u001b[0;34m\u001b[0m\u001b[0;34m\u001b[0m\u001b[0m\n\u001b[0m\u001b[1;32m    344\u001b[0m \u001b[0;34m\u001b[0m\u001b[0m\n\u001b[1;32m    345\u001b[0m         \u001b[0margtypes\u001b[0m \u001b[0;34m=\u001b[0m \u001b[0;34m[\u001b[0m\u001b[0;34m]\u001b[0m\u001b[0;34m\u001b[0m\u001b[0;34m\u001b[0m\u001b[0m\n",
      "\u001b[0;32m~/.local/share/virtualenvs/talk-numba-astrodynamics-VOhN9a7V/lib/python3.7/site-packages/numba/six.py\u001b[0m in \u001b[0;36mreraise\u001b[0;34m(tp, value, tb)\u001b[0m\n\u001b[1;32m    656\u001b[0m             \u001b[0mvalue\u001b[0m \u001b[0;34m=\u001b[0m \u001b[0mtp\u001b[0m\u001b[0;34m(\u001b[0m\u001b[0;34m)\u001b[0m\u001b[0;34m\u001b[0m\u001b[0;34m\u001b[0m\u001b[0m\n\u001b[1;32m    657\u001b[0m         \u001b[0;32mif\u001b[0m \u001b[0mvalue\u001b[0m\u001b[0;34m.\u001b[0m\u001b[0m__traceback__\u001b[0m \u001b[0;32mis\u001b[0m \u001b[0;32mnot\u001b[0m \u001b[0mtb\u001b[0m\u001b[0;34m:\u001b[0m\u001b[0;34m\u001b[0m\u001b[0;34m\u001b[0m\u001b[0m\n\u001b[0;32m--> 658\u001b[0;31m             \u001b[0;32mraise\u001b[0m \u001b[0mvalue\u001b[0m\u001b[0;34m.\u001b[0m\u001b[0mwith_traceback\u001b[0m\u001b[0;34m(\u001b[0m\u001b[0mtb\u001b[0m\u001b[0;34m)\u001b[0m\u001b[0;34m\u001b[0m\u001b[0;34m\u001b[0m\u001b[0m\n\u001b[0m\u001b[1;32m    659\u001b[0m         \u001b[0;32mraise\u001b[0m \u001b[0mvalue\u001b[0m\u001b[0;34m\u001b[0m\u001b[0;34m\u001b[0m\u001b[0m\n\u001b[1;32m    660\u001b[0m \u001b[0;34m\u001b[0m\u001b[0m\n",
      "\u001b[0;31mTypingError\u001b[0m: Failed in nopython mode pipeline (step: nopython frontend)\nInvalid use of Function(<built-in function zeros>) with argument(s) of type(s): (tuple(int64 x 2), dtype=Function(<class 'int'>))\n * parameterized\nIn definition 0:\n    All templates rejected with literals.\nIn definition 1:\n    All templates rejected without literals.\nThis error is usually caused by passing an argument of a type that is unsupported by the named function.\n[1] During: resolving callee type: Function(<built-in function zeros>)\n[2] During: typing of call at <ipython-input-12-8421ff8d7be9> (5)\n\n\nFile \"<ipython-input-12-8421ff8d7be9>\", line 5:\ndef foo():\n    return np.zeros((2, 2), dtype=int)\n    ^\n\nThis is not usually a problem with Numba itself but instead often caused by\nthe use of unsupported features or an issue in resolving types.\n\nTo see Python/NumPy features supported by the latest release of Numba visit:\nhttp://numba.pydata.org/numba-doc/latest/reference/pysupported.html\nand\nhttp://numba.pydata.org/numba-doc/latest/reference/numpysupported.html\n\nFor more information about typing errors and how to debug them visit:\nhttp://numba.pydata.org/numba-doc/latest/user/troubleshoot.html#my-code-doesn-t-compile\n\nIf you think your code should work with Numba, please report the error message\nand traceback, along with a minimal reproducer at:\nhttps://github.com/numba/numba/issues/new\n"
     ]
    }
   ],
   "source": [
    "import numpy as np\n",
    "\n",
    "@njit\n",
    "def foo():\n",
    "    return np.zeros((2, 2), dtype=int)\n",
    "\n",
    "foo()"
   ]
  },
  {
   "cell_type": "code",
   "execution_count": 13,
   "metadata": {
    "slideshow": {
     "slide_type": "subslide"
    }
   },
   "outputs": [
    {
     "ename": "TypingError",
     "evalue": "Failed in nopython mode pipeline (step: nopython frontend)\nInvalid use of Function(<built-in function zeros>) with argument(s) of type(s): (tuple(int64 x 2), dtype=Function(<class 'int'>))\n * parameterized\nIn definition 0:\n    All templates rejected with literals.\nIn definition 1:\n    All templates rejected without literals.\nThis error is usually caused by passing an argument of a type that is unsupported by the named function.\n[1] During: resolving callee type: Function(<built-in function zeros>)\n[2] During: typing of call at <ipython-input-13-8e177ef3f1ca> (3)\n\n\nFile \"<ipython-input-13-8e177ef3f1ca>\", line 3:\ndef foo():\n    return np.zeros((2, 2), dtype=np.int)\n    ^\n\nThis is not usually a problem with Numba itself but instead often caused by\nthe use of unsupported features or an issue in resolving types.\n\nTo see Python/NumPy features supported by the latest release of Numba visit:\nhttp://numba.pydata.org/numba-doc/latest/reference/pysupported.html\nand\nhttp://numba.pydata.org/numba-doc/latest/reference/numpysupported.html\n\nFor more information about typing errors and how to debug them visit:\nhttp://numba.pydata.org/numba-doc/latest/user/troubleshoot.html#my-code-doesn-t-compile\n\nIf you think your code should work with Numba, please report the error message\nand traceback, along with a minimal reproducer at:\nhttps://github.com/numba/numba/issues/new\n",
     "output_type": "error",
     "traceback": [
      "\u001b[0;31m---------------------------------------------------------------------------\u001b[0m",
      "\u001b[0;31mTypingError\u001b[0m                               Traceback (most recent call last)",
      "\u001b[0;32m<ipython-input-13-8e177ef3f1ca>\u001b[0m in \u001b[0;36m<module>\u001b[0;34m\u001b[0m\n\u001b[1;32m      3\u001b[0m     \u001b[0;32mreturn\u001b[0m \u001b[0mnp\u001b[0m\u001b[0;34m.\u001b[0m\u001b[0mzeros\u001b[0m\u001b[0;34m(\u001b[0m\u001b[0;34m(\u001b[0m\u001b[0;36m2\u001b[0m\u001b[0;34m,\u001b[0m \u001b[0;36m2\u001b[0m\u001b[0;34m)\u001b[0m\u001b[0;34m,\u001b[0m \u001b[0mdtype\u001b[0m\u001b[0;34m=\u001b[0m\u001b[0mnp\u001b[0m\u001b[0;34m.\u001b[0m\u001b[0mint\u001b[0m\u001b[0;34m)\u001b[0m\u001b[0;34m\u001b[0m\u001b[0;34m\u001b[0m\u001b[0m\n\u001b[1;32m      4\u001b[0m \u001b[0;34m\u001b[0m\u001b[0m\n\u001b[0;32m----> 5\u001b[0;31m \u001b[0mfoo\u001b[0m\u001b[0;34m(\u001b[0m\u001b[0;34m)\u001b[0m\u001b[0;34m\u001b[0m\u001b[0;34m\u001b[0m\u001b[0m\n\u001b[0m",
      "\u001b[0;32m~/.local/share/virtualenvs/talk-numba-astrodynamics-VOhN9a7V/lib/python3.7/site-packages/numba/dispatcher.py\u001b[0m in \u001b[0;36m_compile_for_args\u001b[0;34m(self, *args, **kws)\u001b[0m\n\u001b[1;32m    374\u001b[0m                 \u001b[0me\u001b[0m\u001b[0;34m.\u001b[0m\u001b[0mpatch_message\u001b[0m\u001b[0;34m(\u001b[0m\u001b[0mmsg\u001b[0m\u001b[0;34m)\u001b[0m\u001b[0;34m\u001b[0m\u001b[0;34m\u001b[0m\u001b[0m\n\u001b[1;32m    375\u001b[0m \u001b[0;34m\u001b[0m\u001b[0m\n\u001b[0;32m--> 376\u001b[0;31m             \u001b[0merror_rewrite\u001b[0m\u001b[0;34m(\u001b[0m\u001b[0me\u001b[0m\u001b[0;34m,\u001b[0m \u001b[0;34m'typing'\u001b[0m\u001b[0;34m)\u001b[0m\u001b[0;34m\u001b[0m\u001b[0;34m\u001b[0m\u001b[0m\n\u001b[0m\u001b[1;32m    377\u001b[0m         \u001b[0;32mexcept\u001b[0m \u001b[0merrors\u001b[0m\u001b[0;34m.\u001b[0m\u001b[0mUnsupportedError\u001b[0m \u001b[0;32mas\u001b[0m \u001b[0me\u001b[0m\u001b[0;34m:\u001b[0m\u001b[0;34m\u001b[0m\u001b[0;34m\u001b[0m\u001b[0m\n\u001b[1;32m    378\u001b[0m             \u001b[0;31m# Something unsupported is present in the user code, add help info\u001b[0m\u001b[0;34m\u001b[0m\u001b[0;34m\u001b[0m\u001b[0;34m\u001b[0m\u001b[0m\n",
      "\u001b[0;32m~/.local/share/virtualenvs/talk-numba-astrodynamics-VOhN9a7V/lib/python3.7/site-packages/numba/dispatcher.py\u001b[0m in \u001b[0;36merror_rewrite\u001b[0;34m(e, issue_type)\u001b[0m\n\u001b[1;32m    341\u001b[0m                 \u001b[0;32mraise\u001b[0m \u001b[0me\u001b[0m\u001b[0;34m\u001b[0m\u001b[0;34m\u001b[0m\u001b[0m\n\u001b[1;32m    342\u001b[0m             \u001b[0;32melse\u001b[0m\u001b[0;34m:\u001b[0m\u001b[0;34m\u001b[0m\u001b[0;34m\u001b[0m\u001b[0m\n\u001b[0;32m--> 343\u001b[0;31m                 \u001b[0mreraise\u001b[0m\u001b[0;34m(\u001b[0m\u001b[0mtype\u001b[0m\u001b[0;34m(\u001b[0m\u001b[0me\u001b[0m\u001b[0;34m)\u001b[0m\u001b[0;34m,\u001b[0m \u001b[0me\u001b[0m\u001b[0;34m,\u001b[0m \u001b[0;32mNone\u001b[0m\u001b[0;34m)\u001b[0m\u001b[0;34m\u001b[0m\u001b[0;34m\u001b[0m\u001b[0m\n\u001b[0m\u001b[1;32m    344\u001b[0m \u001b[0;34m\u001b[0m\u001b[0m\n\u001b[1;32m    345\u001b[0m         \u001b[0margtypes\u001b[0m \u001b[0;34m=\u001b[0m \u001b[0;34m[\u001b[0m\u001b[0;34m]\u001b[0m\u001b[0;34m\u001b[0m\u001b[0;34m\u001b[0m\u001b[0m\n",
      "\u001b[0;32m~/.local/share/virtualenvs/talk-numba-astrodynamics-VOhN9a7V/lib/python3.7/site-packages/numba/six.py\u001b[0m in \u001b[0;36mreraise\u001b[0;34m(tp, value, tb)\u001b[0m\n\u001b[1;32m    656\u001b[0m             \u001b[0mvalue\u001b[0m \u001b[0;34m=\u001b[0m \u001b[0mtp\u001b[0m\u001b[0;34m(\u001b[0m\u001b[0;34m)\u001b[0m\u001b[0;34m\u001b[0m\u001b[0;34m\u001b[0m\u001b[0m\n\u001b[1;32m    657\u001b[0m         \u001b[0;32mif\u001b[0m \u001b[0mvalue\u001b[0m\u001b[0;34m.\u001b[0m\u001b[0m__traceback__\u001b[0m \u001b[0;32mis\u001b[0m \u001b[0;32mnot\u001b[0m \u001b[0mtb\u001b[0m\u001b[0;34m:\u001b[0m\u001b[0;34m\u001b[0m\u001b[0;34m\u001b[0m\u001b[0m\n\u001b[0;32m--> 658\u001b[0;31m             \u001b[0;32mraise\u001b[0m \u001b[0mvalue\u001b[0m\u001b[0;34m.\u001b[0m\u001b[0mwith_traceback\u001b[0m\u001b[0;34m(\u001b[0m\u001b[0mtb\u001b[0m\u001b[0;34m)\u001b[0m\u001b[0;34m\u001b[0m\u001b[0;34m\u001b[0m\u001b[0m\n\u001b[0m\u001b[1;32m    659\u001b[0m         \u001b[0;32mraise\u001b[0m \u001b[0mvalue\u001b[0m\u001b[0;34m\u001b[0m\u001b[0;34m\u001b[0m\u001b[0m\n\u001b[1;32m    660\u001b[0m \u001b[0;34m\u001b[0m\u001b[0m\n",
      "\u001b[0;31mTypingError\u001b[0m: Failed in nopython mode pipeline (step: nopython frontend)\nInvalid use of Function(<built-in function zeros>) with argument(s) of type(s): (tuple(int64 x 2), dtype=Function(<class 'int'>))\n * parameterized\nIn definition 0:\n    All templates rejected with literals.\nIn definition 1:\n    All templates rejected without literals.\nThis error is usually caused by passing an argument of a type that is unsupported by the named function.\n[1] During: resolving callee type: Function(<built-in function zeros>)\n[2] During: typing of call at <ipython-input-13-8e177ef3f1ca> (3)\n\n\nFile \"<ipython-input-13-8e177ef3f1ca>\", line 3:\ndef foo():\n    return np.zeros((2, 2), dtype=np.int)\n    ^\n\nThis is not usually a problem with Numba itself but instead often caused by\nthe use of unsupported features or an issue in resolving types.\n\nTo see Python/NumPy features supported by the latest release of Numba visit:\nhttp://numba.pydata.org/numba-doc/latest/reference/pysupported.html\nand\nhttp://numba.pydata.org/numba-doc/latest/reference/numpysupported.html\n\nFor more information about typing errors and how to debug them visit:\nhttp://numba.pydata.org/numba-doc/latest/user/troubleshoot.html#my-code-doesn-t-compile\n\nIf you think your code should work with Numba, please report the error message\nand traceback, along with a minimal reproducer at:\nhttps://github.com/numba/numba/issues/new\n"
     ]
    }
   ],
   "source": [
    "@njit\n",
    "def foo():\n",
    "    return np.zeros((2, 2), dtype=np.int)\n",
    "\n",
    "foo()"
   ]
  },
  {
   "cell_type": "code",
   "execution_count": 14,
   "metadata": {
    "slideshow": {
     "slide_type": "subslide"
    }
   },
   "outputs": [
    {
     "data": {
      "text/plain": [
       "array([[0, 0],\n",
       "       [0, 0]])"
      ]
     },
     "execution_count": 14,
     "metadata": {},
     "output_type": "execute_result"
    }
   ],
   "source": [
    "@njit\n",
    "def foo():\n",
    "    return np.zeros((2, 2), dtype=np.int_)\n",
    "\n",
    "foo()"
   ]
  },
  {
   "cell_type": "markdown",
   "metadata": {
    "slideshow": {
     "slide_type": "subslide"
    }
   },
   "source": [
    "## NumPy arrays and nothing else\n",
    "\n",
    "![Two layers](img/two-layers.png)\n",
    "\n",
    "High level API:\n",
    "\n",
    "* Supports complex data structures (e.g. `astropy.units` or `pint`, NumPy extensions for physical units) \n",
    "* Convert the code to normalized, simple structure that numba understands\n",
    "\n",
    "Dangerous™ algorithms:\n",
    "\n",
    "* Fast (easy to accelerate with `numba.njit`)\n",
    "* Only cares about numbers, makes assumptions"
   ]
  },
  {
   "cell_type": "markdown",
   "metadata": {
    "slideshow": {
     "slide_type": "subslide"
    }
   },
   "source": [
    "### Example: anomaly conversion in poliastro"
   ]
  },
  {
   "cell_type": "code",
   "execution_count": 16,
   "metadata": {
    "slideshow": {
     "slide_type": "fragment"
    }
   },
   "outputs": [
    {
     "data": {
      "text/latex": [
       "$49.792181 \\; \\mathrm{{}^{\\circ}}$"
      ],
      "text/plain": [
       "<Quantity 49.79218128 deg>"
      ]
     },
     "execution_count": 16,
     "metadata": {},
     "output_type": "execute_result"
    }
   ],
   "source": [
    "from poliastro.twobody.angles import E_to_nu\n",
    "from astropy import units as u\n",
    "\n",
    "E_to_nu(\n",
    "    30 * u.deg,\n",
    "    0.5 * u.one\n",
    ")"
   ]
  },
  {
   "cell_type": "code",
   "execution_count": 17,
   "metadata": {
    "slideshow": {
     "slide_type": "fragment"
    }
   },
   "outputs": [
    {
     "data": {
      "text/latex": [
       "$0.86903751 \\; \\mathrm{rad}$"
      ],
      "text/plain": [
       "<Quantity 0.86903751 rad>"
      ]
     },
     "execution_count": 17,
     "metadata": {},
     "output_type": "execute_result"
    }
   ],
   "source": [
    "E_to_nu(30 * u.deg, 0.5 * u.one).to(u.rad)"
   ]
  },
  {
   "cell_type": "markdown",
   "metadata": {
    "slideshow": {
     "slide_type": "subslide"
    }
   },
   "source": [
    "```python\n",
    "# poliastro/core/angles.py\n",
    "@jit\n",
    "def E_to_nu(E, ecc):\n",
    "    beta = ecc / (1 + np.sqrt((1 - ecc) * (1 + ecc)))\n",
    "    nu = E + 2 * np.arctan(beta * np.sin(E) / (1 - beta * np.cos(E)))\n",
    "    return nu\n",
    "```\n",
    "\n",
    "---\n",
    "\n",
    "```python\n",
    "# poliastro/twobody/angles.py\n",
    "from poliastro.core.angles import E_to_nu as E_to_nu_fast\n",
    "\n",
    "@u.quantity_input(E=u.rad, ecc=u.one)\n",
    "def E_to_nu(E, ecc):\n",
    "    return (E_to_nu_fast(E.to(u.rad).value, ecc.value) * u.rad).to(E.unit)\n",
    "```"
   ]
  },
  {
   "cell_type": "markdown",
   "metadata": {
    "slideshow": {
     "slide_type": "subslide"
    }
   },
   "source": [
    "## Final remarks\n",
    "\n",
    "* If anything fails, `export NUMBA_DISABLE_JIT=1`\n",
    "* Try to split the function in smaller chunks until you find out what triggers object (slow) mode\n",
    "* You might have to rewrite some stuff, make it less dynamic\n",
    "* Keep an eye on https://numba.pydata.org/numba-doc/dev/reference/pysupported.html and https://numba.pydata.org/numba-doc/dev/reference/numpysupported.html"
   ]
  },
  {
   "cell_type": "markdown",
   "metadata": {
    "slideshow": {
     "slide_type": "slide"
    }
   },
   "source": [
    "# Conclusions\n",
    "\n",
    "* Numba is ✨ _awesome_ ✨ when you make it work!\n",
    "* Still requires a bit of code rewrites, but the code is still _mostly pythonic_ Python\n",
    "* For non-numerical code, you will probably have to find something else"
   ]
  },
  {
   "cell_type": "markdown",
   "metadata": {
    "slideshow": {
     "slide_type": "slide"
    }
   },
   "source": [
    "# Per Python ad astra! 🚀\n",
    "\n",
    "* Slides https://github.com/Juanlu001/talk-numba-astrodynamics\n",
    "* My email <hello@juanlu.space>\n",
    "* My Twitter https://twitter.com/poliastro_py\n",
    "\n",
    "![Vega launch](img/vega.jpg)"
   ]
  }
 ],
 "metadata": {
  "celltoolbar": "Slideshow",
  "kernelspec": {
   "display_name": "Python 3",
   "language": "python",
   "name": "python3"
  },
  "language_info": {
   "codemirror_mode": {
    "name": "ipython",
    "version": 3
   },
   "file_extension": ".py",
   "mimetype": "text/x-python",
   "name": "python",
   "nbconvert_exporter": "python",
   "pygments_lexer": "ipython3",
   "version": "3.7.4"
  }
 },
 "nbformat": 4,
 "nbformat_minor": 2
}
